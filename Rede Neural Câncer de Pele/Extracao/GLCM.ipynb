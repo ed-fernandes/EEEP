{
 "cells": [
  {
   "cell_type": "markdown",
   "metadata": {},
   "source": [
    "# Criação do DataSet - GLCM\n"
   ]
  },
  {
   "cell_type": "code",
   "execution_count": null,
   "metadata": {},
   "outputs": [],
   "source": [
    "import cv2\n",
    "import PIL\n",
    "import glob, os\n",
    "import numpy as np\n",
    "from skimage.filters import gabor\n",
    "from matplotlib import pyplot as plt\n",
    "import mahotas\n",
    "from skimage.feature import local_binary_pattern, greycomatrix, greycoprops"
   ]
  },
  {
   "cell_type": "code",
   "execution_count": null,
   "metadata": {},
   "outputs": [],
   "source": [
    "def Extracao(path, classe):\n",
    "    try:\n",
    "        \n",
    "        imagem = cv2.imread(path, 0)\n",
    "        print(path)\n",
    "\n",
    "   \n",
    "        # GLCM\n",
    "        haralick = mahotas.features.haralick(imagem).mean(axis=0)\n",
    "        vetor_extracao = [haralick[0], haralick[1], haralick[2], haralick[3], haralick[4],\n",
    "                      haralick[5], haralick[6], haralick[7], haralick[8], haralick[9],\n",
    "                      haralick[10], haralick[11], haralick[12], classe]\n",
    "      \n",
    "        #print(vetor_extracao)\n",
    "        return vetor_extracao  \n",
    "        \n",
    "    except:\n",
    "        print ('Erro ao obter dados da imagem')"
   ]
  },
  {
   "cell_type": "code",
   "execution_count": null,
   "metadata": {},
   "outputs": [],
   "source": [
    "def Salvar(lista):\n",
    "    dados = np.array(lista)\n",
    "   # print (os.getcwd())\n",
    "    \n",
    "    arquivo = open('../../../../Datasets/faces.txt', 'r')\n",
    "    conteudo = arquivo.readlines()\n",
    "    valores=\"\"\n",
    "    \n",
    "    for i in range(len(dados)):\n",
    "        if i > 0:\n",
    "            valores += \", \"+str(dados[i])\n",
    "        else:\n",
    "            valores += str(dados[i])\n",
    "        \n",
    "        \n",
    "    conteudo.append(\"\\n\" + str(valores))\n",
    "\n",
    "            #### Abre o arquivo como escrita, escreve o conteúdo e fecha o mesmo\n",
    "        \n",
    "    arquivo = open('../../../../Datasets/faces.txt', 'w')\n",
    "    arquivo.writelines(conteudo)\n",
    "    arquivo.close()"
   ]
  },
  {
   "cell_type": "code",
   "execution_count": null,
   "metadata": {},
   "outputs": [],
   "source": [
    "if __name__ == \"__main__\":\n",
    "    # Armazena o caminho informado na variavel d\n",
    "    import os\n",
    "\n",
    "    c = \"abertos\"\n",
    "    #c = \"fechados1\"\n",
    "    d = \"imagens/olhos/\"+c\n",
    "    if not os.path.exists(d):\n",
    "        raise Exception('O diretorio informado nao existe')\n",
    "    print( os.chdir(d))\n",
    "    \n",
    "    lista = []\n",
    "    print(\"Processando\")\n",
    "    for fn in glob.glob('*.jpg'):\n",
    "         #   print ('Processando:', fn)\n",
    "            lista = Extracao(fn, c)\n",
    "            Salvar(lista)\n",
    "            \n",
    " \n",
    "    print ('Extração concluída')    "
   ]
  }
 ],
 "metadata": {
  "kernelspec": {
   "display_name": "TensorFlow-GPU",
   "language": "python",
   "name": "tf-gpu"
  },
  "language_info": {
   "codemirror_mode": {
    "name": "ipython",
    "version": 3
   },
   "file_extension": ".py",
   "mimetype": "text/x-python",
   "name": "python",
   "nbconvert_exporter": "python",
   "pygments_lexer": "ipython3",
   "version": "3.6.8"
  }
 },
 "nbformat": 4,
 "nbformat_minor": 2
}
