{
 "cells": [
  {
   "cell_type": "code",
   "execution_count": null,
   "metadata": {},
   "outputs": [],
   "source": [
    "from keras.models import Sequential\n",
    "from keras.layers import Dense\n",
    "import pandas as pd\n",
    "from random import randint\n",
    "import numpy as np\n",
    "import matplotlib.pyplot as plt\n",
    "from sklearn.preprocessing import LabelEncoder\n",
    "from sklearn.metrics import confusion_matrix, classification_report, precision_recall_fscore_support\n",
    "import itertools\n",
    "from joblib import dump, load\n",
    "from sklearn.model_selection import KFold\n",
    "from sklearn.neighbors import KNeighborsClassifier  \n"
   ]
  },
  {
   "cell_type": "code",
   "execution_count": null,
   "metadata": {},
   "outputs": [],
   "source": [
    "NomeBase = \"baseEngenhariaNumerica4\"\n",
    "NomeBase = 'GLCMMaior'\n",
    "#NomeBase = \"sexoIdade\"\n",
    "#NomeBase = \"SIR\"\n",
    "#NomeBase = \"siriro\"\n",
    "\n",
    "valor = 1\n",
    "base = pd.read_csv('../Datasets/' + str(NomeBase)+'.txt')\n",
    "\n",
    "\n",
    "entradas = base.iloc[:, 0:len(base.columns) -valor].values \n",
    "\n",
    "classes = base.iloc[:,len(base.columns)-valor].values\n",
    "\n",
    "NumColunas = len(base.columns) - valor\n",
    "caminho = '../resultados/KNN/PesosKNN_Base'+str(NomeBase)\n",
    "print(classes)"
   ]
  },
  {
   "cell_type": "code",
   "execution_count": null,
   "metadata": {},
   "outputs": [],
   "source": [
    "for i in range (len(base.columns)-valor):\n",
    "    entradas[:,i] = (entradas[:,i] - np.mean(entradas[:,i]))/entradas[:,i].std(axis = 0)"
   ]
  },
  {
   "cell_type": "code",
   "execution_count": null,
   "metadata": {},
   "outputs": [],
   "source": [
    "def dividir_trei_test(entradas, classes, percentual):\n",
    "    result = []\n",
    "    while (len(result)) != len(entradas):\n",
    "        r = randint(0, len(entradas)-1)\n",
    "        if r not in result:\n",
    "            result.append(r)    \n",
    "\n",
    "    repeticoes = np.zeros(np.max(classes)+1)\n",
    "    \n",
    "    for i in range(len(entradas)):\n",
    "        repeticoes[classes[i]] = repeticoes[classes[i]] + 1\n",
    "    repeticoes = np.array(repeticoes)\n",
    "    minimo = int(np.min(repeticoes) * (1 - percentual))\n",
    "    \n",
    "    treino = int((minimo) * (np.max(classes)+1) )\n",
    "    teste = int(len(entradas) - treino)\n",
    "\n",
    "    entradas_trei = np.zeros((treino, NumColunas))\n",
    "    entradas_test = np.zeros((teste, NumColunas))\n",
    "    classes_trei = np.zeros((treino)) \n",
    "    classes_test = np.zeros((teste))\n",
    "\n",
    " \n",
    "    contTreino = 0\n",
    "    contTest = 0\n",
    "    vetorMinimo = np.zeros(np.max(classes)+1)\n",
    "\n",
    "    for i in range(len(classes)):    \n",
    "        if (vetorMinimo[classes[result[i]]] < minimo):            \n",
    "            entradas_trei[contTreino] = entradas[result[i]]\n",
    "            classes_trei[contTreino] = classes[result[i]]\n",
    "   \n",
    "            contTreino = contTreino + 1\n",
    "            vetorMinimo[classes[result[i]]] = vetorMinimo[classes[result[i]]] + 1\n",
    "            \n",
    "        else:   \n",
    "            entradas_test[contTest] = entradas[result[i]]            \n",
    "            classes_test[contTest] = classes[result[i]]\n",
    "           \n",
    "            contTest = contTest + 1        \n",
    "\n",
    "\n",
    "    return entradas_trei, entradas_test, classes_trei, classes_test"
   ]
  },
  {
   "cell_type": "code",
   "execution_count": null,
   "metadata": {},
   "outputs": [],
   "source": [
    "labelEncoder = LabelEncoder()\n",
    "classes = labelEncoder.fit_transform(classes)\n",
    "NumClasses = np.max(classes) + 2\n",
    "\n",
    "entradas_trei, entradas_test, classes_t, classes_te = dividir_trei_test(entradas, classes, 0.2)\n",
    "contador = np.zeros((3))\n",
    "\n",
    "classes_test =  np.array(pd.get_dummies(classes_te))\n",
    "classes_trei =  np.array(pd.get_dummies(classes_t))"
   ]
  },
  {
   "cell_type": "code",
   "execution_count": null,
   "metadata": {},
   "outputs": [],
   "source": [
    "# Modelo sequencial do keras\n",
    "\n",
    "model = Sequential()\n",
    "\n",
    "# Camada de entrada\n",
    "NeuroniosEntrada = 16\n",
    "model.add(Dense(NeuroniosEntrada, input_dim=NumColunas, activation='relu'))\n",
    "\n",
    "\n",
    "# Camadas ocultadas\n",
    "camadasOcultas = 2\n",
    "NeuroniosOculta = 20\n",
    "\n",
    "for i in range (camadasOcultas):\n",
    "    model.add(Dense(NeuroniosOculta, activation='relu'))\n",
    "    \n",
    "# Camada de Saída    \n",
    "model.add(Dense(1, activation='sigmoid'))"
   ]
  },
  {
   "cell_type": "code",
   "execution_count": null,
   "metadata": {},
   "outputs": [],
   "source": [
    "model.compile(loss='binary_crossentropy', optimizer='adam', metrics=['accuracy'])\n",
    "\n",
    "history = model.fit(entradas_trei, classes_t, validation_data=(entradas_test,classes_te), epochs=100, batch_size=10)\n"
   ]
  },
  {
   "cell_type": "code",
   "execution_count": null,
   "metadata": {},
   "outputs": [],
   "source": [
    "_, accuracy = model.evaluate(entradas, classes)\n",
    "print('Accuracy: %.2f' % (accuracy*100))"
   ]
  },
  {
   "cell_type": "code",
   "execution_count": null,
   "metadata": {},
   "outputs": [],
   "source": [
    "print(model.summary())"
   ]
  },
  {
   "cell_type": "code",
   "execution_count": null,
   "metadata": {},
   "outputs": [],
   "source": [
    "import matplotlib.pyplot as plt\n",
    "\n",
    "\n",
    "# Plot training & validation accuracy values\n",
    "plt.plot(history.history['acc'])\n",
    "plt.plot(history.history['val_acc'])\n",
    "plt.title('Model accuracy')\n",
    "plt.ylabel('Accuracy')\n",
    "plt.xlabel('Epoch')\n",
    "plt.legend(['Train', 'Test'], loc='upper left')\n",
    "plt.show()"
   ]
  },
  {
   "cell_type": "code",
   "execution_count": null,
   "metadata": {},
   "outputs": [],
   "source": [
    "# Plot training & validation loss values\n",
    "plt.plot(history.history['loss'])\n",
    "plt.plot(history.history['val_loss'])\n",
    "plt.title('Model loss')\n",
    "plt.ylabel('Loss')\n",
    "plt.xlabel('Epoch')\n",
    "plt.legend(['Train', 'Test'], loc='upper left')\n",
    "plt.show()"
   ]
  },
  {
   "cell_type": "code",
   "execution_count": null,
   "metadata": {},
   "outputs": [],
   "source": [
    "from sklearn.metrics import confusion_matrix\n",
    "import matplotlib.pyplot as plt\n",
    "import itertools\n",
    "\n",
    "def plot_confusion_matrix(cm, classes,\n",
    "                          normalize=False,\n",
    "                          title='Matriz de Confusão',\n",
    "                          cmap=plt.cm.Blues):   \n",
    "\n",
    "    plt.imshow(cm, interpolation='nearest', cmap=cmap)\n",
    "    plt.title(title)\n",
    "    plt.colorbar()\n",
    "    tick_marks = np.arange(len(classes))\n",
    "    plt.xticks(tick_marks, classes, rotation=45)\n",
    "    plt.yticks(tick_marks, classes)\n",
    "\n",
    "    fmt = '.2f' if normalize else 'd'\n",
    "    thresh = cm.max() / 2.\n",
    "    for i, j in itertools.product(range(cm.shape[0]), range(cm.shape[1])):\n",
    "        plt.text(j, i, format(cm[i, j], fmt),\n",
    "                 horizontalalignment=\"center\",\n",
    "                 color=\"white\" if cm[i, j] > thresh else \"black\")\n",
    "\n",
    "    plt.tight_layout()\n",
    "    plt.ylabel('Saída correta')\n",
    "    plt.xlabel('Saída encontrada')    "
   ]
  },
  {
   "cell_type": "code",
   "execution_count": null,
   "metadata": {},
   "outputs": [],
   "source": [
    "y_treino = model.predict(entradas_trei)\n",
    "y_treino = (y_treino > 0.5)\n",
    "cm = confusion_matrix(classes_t, y_treino)\n",
    "\n",
    "plot_confusion_matrix(cm, \n",
    "                      classes=['0', '1','FR'],\n",
    "                      title='Treinamento')\n",
    "plt.show()\n",
    "\n",
    "print((cm[0][0]+cm[1][1])/(cm[0][0]+cm[0][1]+cm[1][0]+cm[1][1]))\n"
   ]
  },
  {
   "cell_type": "code",
   "execution_count": null,
   "metadata": {},
   "outputs": [],
   "source": [
    "y_teste = model.predict(entradas_test)\n",
    "y_teste = (y_teste > 0.5)\n",
    "cmT = confusion_matrix(classes_te, y_teste)\n",
    "print(cmT)\n",
    "print((cmT[0][0]+cmT[1][1])/(cmT[0][0]+cmT[0][1]+cmT[1][0]+cmT[1][1]))\n",
    "\n",
    "\n",
    "plot_confusion_matrix(cmT, \n",
    "                      classes=['0', '1', 'FR'],\n",
    "                      title='Teste')\n",
    "plt.show()"
   ]
  }
 ],
 "metadata": {
  "kernelspec": {
   "display_name": "Python 3",
   "language": "python",
   "name": "python3"
  },
  "language_info": {
   "codemirror_mode": {
    "name": "ipython",
    "version": 3
   },
   "file_extension": ".py",
   "mimetype": "text/x-python",
   "name": "python",
   "nbconvert_exporter": "python",
   "pygments_lexer": "ipython3",
   "version": "3.6.8"
  }
 },
 "nbformat": 4,
 "nbformat_minor": 2
}
