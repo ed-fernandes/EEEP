{
 "cells": [
  {
   "cell_type": "markdown",
   "metadata": {},
   "source": [
    "# Multilayer Perceptron -  Manual - Cross Validation"
   ]
  },
  {
   "cell_type": "markdown",
   "metadata": {},
   "source": [
    "### Atualização dos pesos por iteração"
   ]
  },
  {
   "cell_type": "markdown",
   "metadata": {},
   "source": [
    "### Importação das bibliotecas necessárias"
   ]
  },
  {
   "cell_type": "code",
   "execution_count": null,
   "metadata": {},
   "outputs": [],
   "source": [
    "import pandas as pd\n",
    "from random import randint\n",
    "import numpy as np\n",
    "import seaborn as sns\n",
    "import matplotlib.pyplot as plt\n",
    "from sklearn.model_selection import train_test_split\n",
    "from sklearn.preprocessing import LabelEncoder\n",
    "from sklearn.preprocessing import LabelBinarizer\n",
    "from sklearn.metrics import explained_variance_score"
   ]
  },
  {
   "cell_type": "markdown",
   "metadata": {},
   "source": [
    "### Carregamento da base"
   ]
  },
  {
   "cell_type": "code",
   "execution_count": null,
   "metadata": {},
   "outputs": [],
   "source": [
    "NomeBase = \"GLCM\"\n",
    "NomeBase = \"GLCMMaior\"\n",
    "#NomeBase = \"faces\"\n",
    "\n",
    "valor = 1\n",
    "base = pd.read_csv('../Datasets/' + str(NomeBase)+'.txt', header=None)\n",
    "\n",
    "entradas = base.iloc[:, 0:len(base.columns) -valor].values \n",
    "classes = base.iloc[:,len(base.columns)-valor].values\n",
    "NumColunas = len(base.columns) - valor\n",
    "print(classes)\n",
    "caminho = '../resultados/MLP/PesosMLP_'+str(NomeBase)"
   ]
  },
  {
   "cell_type": "code",
   "execution_count": null,
   "metadata": {},
   "outputs": [],
   "source": [
    "base.head()"
   ]
  },
  {
   "cell_type": "code",
   "execution_count": null,
   "metadata": {},
   "outputs": [],
   "source": [
    "base.describe()"
   ]
  },
  {
   "cell_type": "markdown",
   "metadata": {},
   "source": [
    "### Padronização dos dados"
   ]
  },
  {
   "cell_type": "code",
   "execution_count": null,
   "metadata": {},
   "outputs": [],
   "source": [
    "for i in range (len(base.columns)-valor):\n",
    "    entradas[:,i] = (entradas[:,i] - np.mean(entradas[:,i]))/entradas[:,i].std(axis = 0)"
   ]
  },
  {
   "cell_type": "markdown",
   "metadata": {},
   "source": [
    "### Transformação das classes para o tipo dummy"
   ]
  },
  {
   "cell_type": "code",
   "execution_count": null,
   "metadata": {},
   "outputs": [],
   "source": [
    "labelEncoder = LabelEncoder()\n",
    "classes = labelEncoder.fit_transform(classes)\n"
   ]
  },
  {
   "cell_type": "markdown",
   "metadata": {},
   "source": [
    "### Plotagem dos dados (colunas 1 e 2)"
   ]
  },
  {
   "cell_type": "code",
   "execution_count": null,
   "metadata": {},
   "outputs": [],
   "source": [
    "a1 = 1\n",
    "a2 = 2\n",
    "\n",
    "x = base.iloc[:,a1].values\n",
    "y = base.iloc[:,a2].values\n",
    "\n",
    "color= ['lime' if l == 0 else 'teal' if l == 1 else 'green' for l in classes]\n",
    "plt.rcParams['figure.figsize'] = (7,5)\n",
    "plt.title(\"Atributos \"+ str(a1) + \" e \" + str(a2) )\n",
    "plt.scatter(x, y, color=color)\n",
    "plt.show()"
   ]
  },
  {
   "cell_type": "code",
   "execution_count": null,
   "metadata": {},
   "outputs": [],
   "source": [
    "x = entradas.T\n",
    "sns.set_style('darkgrid')\n",
    "plt.rcParams['figure.figsize'] = (20,20)\n",
    "for i in range(NumColunas):\n",
    "    plt.subplot(5, 5, i+1)\n",
    "\n",
    "    sns.distplot(x[i])\n",
    "plt.show()"
   ]
  },
  {
   "cell_type": "code",
   "execution_count": null,
   "metadata": {},
   "outputs": [],
   "source": []
  },
  {
   "cell_type": "code",
   "execution_count": null,
   "metadata": {},
   "outputs": [],
   "source": [
    "# Simetria\n",
    "#base.skew()"
   ]
  },
  {
   "cell_type": "code",
   "execution_count": null,
   "metadata": {},
   "outputs": [],
   "source": [
    "# Variância\n",
    "np.var(base) "
   ]
  },
  {
   "cell_type": "code",
   "execution_count": null,
   "metadata": {},
   "outputs": [],
   "source": [
    "pltpandas = pd.plotting.boxplot(base.iloc[:, 0:len(base.columns) -valor])\n",
    "plt.show()"
   ]
  },
  {
   "cell_type": "code",
   "execution_count": null,
   "metadata": {},
   "outputs": [],
   "source": [
    "sns.set(style=\"ticks\")\n",
    "\n",
    "atrib = np.zeros([NumColunas])\n",
    "for i in range(NumColunas):\n",
    "    atrib[i] = int(i)\n",
    "\n",
    "sns.pairplot(base, hue=NumColunas, vars=atrib)\n",
    "plt.show()"
   ]
  },
  {
   "cell_type": "code",
   "execution_count": null,
   "metadata": {},
   "outputs": [],
   "source": [
    "base.corr().style.background_gradient()\n"
   ]
  },
  {
   "cell_type": "code",
   "execution_count": null,
   "metadata": {},
   "outputs": [],
   "source": [
    "# Covariância\n",
    "print(np.cov(base))"
   ]
  },
  {
   "cell_type": "markdown",
   "metadata": {},
   "source": [
    "### Divisão da base em treinamento (80%) e teste (20%)"
   ]
  },
  {
   "cell_type": "code",
   "execution_count": null,
   "metadata": {},
   "outputs": [],
   "source": [
    "def dividir_trei_test(entradas, classes, percentual):\n",
    "    result = []\n",
    "    while (len(result)) != len(entradas):\n",
    "        r = randint(0, len(entradas)-1)\n",
    "        if r not in result:\n",
    "            result.append(r)    \n",
    "\n",
    "    repeticoes = np.zeros(np.max(classes)+1)\n",
    "    \n",
    "    for i in range(len(entradas)):\n",
    "        repeticoes[classes[i]] = repeticoes[classes[i]] + 1\n",
    "    repeticoes = np.array(repeticoes)\n",
    "    minimo = int(np.min(repeticoes) * (1 - percentual))\n",
    "    \n",
    "    treino = int((minimo) * (np.max(classes)+1) )\n",
    "    teste = int(len(entradas) - treino)\n",
    "\n",
    "    entradas_trei = np.zeros((treino, NumColunas))\n",
    "    entradas_test = np.zeros((teste, NumColunas))\n",
    "    classes_trei = np.zeros((treino)) \n",
    "    classes_test = np.zeros((teste))\n",
    "\n",
    " \n",
    "    contTreino = 0\n",
    "    contTest = 0\n",
    "    vetorMinimo = np.zeros(np.max(classes)+1)\n",
    "\n",
    "    for i in range(len(classes)):    \n",
    "        if (vetorMinimo[classes[result[i]]] < minimo):            \n",
    "            entradas_trei[contTreino] = entradas[result[i]]\n",
    "            classes_trei[contTreino] = classes[result[i]]\n",
    "   \n",
    "            contTreino = contTreino + 1\n",
    "            vetorMinimo[classes[result[i]]] = vetorMinimo[classes[result[i]]] + 1\n",
    "            \n",
    "        else:   \n",
    "            entradas_test[contTest] = entradas[result[i]]            \n",
    "            classes_test[contTest] = classes[result[i]]\n",
    "           \n",
    "            contTest = contTest + 1        \n",
    "\n",
    "\n",
    "    return entradas_trei, entradas_test, classes_trei, classes_test"
   ]
  },
  {
   "cell_type": "code",
   "execution_count": null,
   "metadata": {},
   "outputs": [],
   "source": [
    "labelEncoder = LabelEncoder()\n",
    "classes = labelEncoder.fit_transform(classes)\n",
    "NumClasses = np.max(classes) + 2\n",
    "\n",
    "entradas_trei, entradas_test, classes_t, classes_te = dividir_trei_test(entradas, classes, 0.05)\n",
    "contador = np.zeros((3))\n",
    "\n",
    "classes_test =  np.array(pd.get_dummies(classes_te))\n",
    "classes_trei =  np.array(pd.get_dummies(classes_t))"
   ]
  },
  {
   "cell_type": "markdown",
   "metadata": {},
   "source": [
    "### Métodos e demais variáveis necessárias"
   ]
  },
  {
   "cell_type": "code",
   "execution_count": null,
   "metadata": {},
   "outputs": [],
   "source": [
    "def funcaoAtivacao(soma, Usu_func):\n",
    "    if (Usu_func == 1):\n",
    "        return 1/(1 + np.exp(-soma))\n",
    "    if (Usu_func == 2):\n",
    "        return ((1 - np.exp(-soma))/(1 + np.exp(-soma)))\n",
    "    return 0"
   ]
  },
  {
   "cell_type": "code",
   "execution_count": null,
   "metadata": {},
   "outputs": [],
   "source": [
    "def derivadaParcial(camadaSaida, Usu_func):\n",
    "    if (Usu_func == 1):\n",
    "        return camadaSaida * (1 - camadaSaida)\n",
    "    if (Usu_func == 2):\n",
    "        return 1/2 * (1 - (camadaSaida)**2)"
   ]
  },
  {
   "cell_type": "code",
   "execution_count": null,
   "metadata": {},
   "outputs": [],
   "source": [
    "def decaimentoTaxaAprend(realizar, tipo, taxaAprendIni, iteracaoAtual, NumIteracoes):\n",
    "    if (realizar == 1):\n",
    "        if (tipo == 1):\n",
    "            # Linear\n",
    "            return taxaAprendIni * (1 - (iteracaoAtual/NumIteracoes))            \n",
    "        elif (tipo == 2):\n",
    "            # Exponencial\n",
    "             return taxaAprendIni/(1 + iteracaoAtual)  \n",
    "    else:\n",
    "        return taxaAprendIni"
   ]
  },
  {
   "cell_type": "code",
   "execution_count": null,
   "metadata": {},
   "outputs": [],
   "source": [
    "def CalcVar(camadaSaida, corretas):    \n",
    "    classesN = [np.argmax(t) for t in corretas]\n",
    "    classesPreditas = np.zeros((camadaSaida.shape[0]))\n",
    "    corretas = np.ones((camadaSaida.shape[0]))\n",
    "    for i in range(camadaSaida.shape[0]):         \n",
    "        classesPreditas[i] =  camadaSaida[i][classesN[i]]\n",
    "    return np.var(classesPreditas)   "
   ]
  },
  {
   "cell_type": "markdown",
   "metadata": {},
   "source": [
    "## Dados do usuário"
   ]
  },
  {
   "cell_type": "code",
   "execution_count": null,
   "metadata": {},
   "outputs": [],
   "source": [
    "NumClasses = np.max(classes) + 2\n",
    "epocasAnt = 0\n",
    "\n",
    "carregarPesos = int(input(\"Deseja carregar pesos salvos sem continuar a iteração? (1 - Sim, 2 - Não) \"))\n",
    "\n",
    "if (carregarPesos == 1):\n",
    "        carregarPesCon = 0\n",
    "        arquivo = input(\"Digite o número do diretório: \")  \n",
    "        epocas = np.load(str(str(caminho)+\"/\"+str(arquivo)+\"/epocas.npy\"))\n",
    "        taxaAprendOcul = np.load(str(str(caminho)+\"/\"+str(arquivo)+\"/taxaAprendOcul.npy\"))\n",
    "        decaimentoOcul = np.load(str(str(caminho)+\"/\"+str(arquivo)+\"/decaimentoOcul.npy\"))\n",
    "        tipoDecaimentoOcul = np.load(str(str(caminho)+\"/\"+str(arquivo)+\"/tipoDecaimentoOcul.npy\")) \n",
    "        taxaAprendSai = np.load(str(str(caminho)+\"/\"+str(arquivo)+\"/taxaAprendSai.npy\"))         \n",
    "        decaimentoSai = np.load(str(str(caminho)+\"/\"+str(arquivo)+\"/decaimentoSai.npy\")) \n",
    "        tipoDecaimentoSai = np.load(str(str(caminho)+\"/\"+str(arquivo)+\"/tipoDecaimentoSai.npy\")) \n",
    "        escolha = np.load(str(str(caminho)+\"/\"+str(arquivo)+\"/escolha.npy\")) \n",
    "        NeuroniosCamadaOculta = np.load(str(str(caminho)+\"/\"+str(arquivo)+\"/NeuroniosCamadaOculta.npy\")) \n",
    "        Usu_func = np.load(str(str(caminho)+\"/\"+str(arquivo)+\"/Usu_func.npy\")) \n",
    "        TaxaRejeicao = np.load(str(str(caminho)+\"/\"+str(arquivo)+\"/TaxaRejeicao.npy\")) \n",
    "        PesoBiasOculta = np.load(str(str(caminho)+\"/\"+str(arquivo)+\"/PesoBiasOculta.npy\")) \n",
    "        pesos0 = np.load(str(str(caminho)+\"/\"+str(arquivo)+\"/pesos0.npy\")) \n",
    "        pesos1 = np.load(str(str(caminho)+\"/\"+str(arquivo)+\"/pesos1.npy\")) \n",
    "        Erro = np.load(str(str(caminho)+\"/\"+str(arquivo)+\"/Erro.npy\")) \n",
    "        variancia = np.load(str(str(caminho)+\"/\"+str(arquivo)+\"/variancia.npy\"))\n",
    "        K = np.load(str(str(caminho)+\"/\"+str(arquivo)+\"/K.npy\"))\n",
    "        mediaErro = np.load(str(str(caminho)+\"/\"+str(arquivo)+\"/mediaErro.npy\"))\n",
    "        menorErro = np.load(str(str(caminho)+\"/\"+str(arquivo)+\"/menorErro.npy\"))\n",
    "        melhorEpoca = np.load(str(str(caminho)+\"/\"+str(arquivo)+\"/melhorEpoca.npy\"))\n",
    "        mediaErroTest_Val = np.load(str(str(caminho)+\"/\"+str(arquivo)+\"/mediaErroTest_Val.npy\"))\n",
    "      #  DP = np.load(str(str(caminho)+\"/\"+str(arquivo)+\"/DP.npy\"))\n",
    "\n",
    "        \n",
    "if (carregarPesos != 1):    \n",
    "    carregarPesCon = int(input(\"Deseja carregar pesos e continuar com o processamento? (1 - Sim, 2 - Não) \"))\n",
    "    \n",
    "    dimensoes = NumColunas\n",
    "    \n",
    "    if (carregarPesCon == 1):\n",
    "        print(\"Atenção! Esta não é uma boa prática, a mesma pode ocasionar vícios na rede.\")\n",
    "        arquivo = input(\"Digite o número do diretório: \")    \n",
    "        epocasAnt =  np.load(str(\"../resultados/PesosMLP_\"+str(NomeBase)+\"/\"+str(arquivo)+\"/epocas.npy\"))\n",
    "\n",
    "        epocas = int(input('\\033[1m' + \"Digite a quantidade de épocas: \"))\n",
    "        epocasAnt = np.load(str(str(caminho)+\"\"+str(NomeBase)+\"/\"+str(arquivo)+\"/epocas.npy\"))\n",
    "        taxaAprendOcul = np.load(str(str(caminho)+\"\"+str(NomeBase)+\"/\"+str(arquivo)+\"/taxaAprendOcul.npy\"))\n",
    "        decaimentoOcul = np.load(str(str(caminho)+\"\"+str(NomeBase)+\"/\"+str(arquivo)+\"/decaimentoOcul.npy\"))\n",
    "        tipoDecaimentoOcul = np.load(str(str(caminho)+\"\"+str(NomeBase)+\"/\"+str(arquivo)+\"/tipoDecaimentoOcul.npy\")) \n",
    "        taxaAprendSai = np.load(str(str(caminho)+\"\"+str(NomeBase)+\"/\"+str(arquivo)+\"/taxaAprendSai.npy\")) \n",
    "        \n",
    "        decaimentoSai = np.load(str(str(caminho)+\"\"+str(NomeBase)+\"/\"+str(arquivo)+\"/decaimentoSai.npy\")) \n",
    "        tipoDecaimentoSai = np.load(str(str(caminho)+\"\"+str(NomeBase)+\"/\"+str(arquivo)+\"/tipoDecaimentoSai.npy\")) \n",
    "        escolha = np.load(str(str(caminho)+\"\"+str(NomeBase)+\"/\"+str(arquivo)+\"/escolha.npy\")) \n",
    "        NeuroniosCamadaOculta = np.load(str(str(caminho)+\"\"+str(NomeBase)+\"/\"+str(arquivo)+\"/NeuroniosCamadaOculta.npy\")) \n",
    "        Usu_func = np.load(str(str(caminho)+\"\"+str(NomeBase)+\"/\"+str(arquivo)+\"/Usu_func.npy\")) \n",
    "        TaxaRejeicao = np.load(str(str(caminho)+\"\"+str(NomeBase)+\"/\"+str(arquivo)+\"/TaxaRejeicao.npy\")) \n",
    "        PesoBiasOculta = np.load(str(str(caminho)+\"\"+str(NomeBase)+\"/\"+str(arquivo)+\"/PesoBiasOculta.npy\")) \n",
    "        pesos0 = np.load(str(str(caminho)+\"\"+str(NomeBase)+\"/\"+str(arquivo)+\"/pesos0.npy\")) \n",
    "        pesos1 = np.load(str(str(caminho)+\"\"+str(NomeBase)+\"/\"+str(arquivo)+\"/pesos1.npy\")) \n",
    "        Erro = np.load(str(str(caminho)+\"\"+str(NomeBase)+\"/\"+str(arquivo)+\"/Erro.npy\")) \n",
    "        variancia = np.load(str(str(caminho)+\"\"+str(NomeBase)+\"/\"+str(arquivo)+\"/variancia.npy\")) \n",
    "        K = np.load(str(str(caminho)+\"\"+str(NomeBase)+\"/\"+str(arquivo)+\"/K.npy\"))\n",
    "        mediaErro = np.load(str(str(caminho)+\"\"+str(NomeBase)+\"/\"+str(arquivo)+\"/mediaErro.npy\"))\n",
    "        menorErro = np.load(str(str(caminho)+\"\"+str(NomeBase)+\"/\"+str(arquivo)+\"/menorErro.npy\"))\n",
    "        melhorEpoca = np.load(str(str(caminho)+\"\"+str(NomeBase)+\"/\"+str(arquivo)+\"/melhorEpoca.npy\"))\n",
    "        mediaErroTest_Val = np.load(str(str(caminho)+\"\"+str(NomeBase)+\"/\"+str(arquivo)+\"/mediaErroTest_Val.npy\"))\n",
    "        \n",
    "    else:\n",
    "        epocas = int(input('\\033[1m' + \"Digite a quantidade de épocas: \"))\n",
    "        taxaAprendOcul = float(input('\\033[1m' + \"Digite a taxa de aprendizado da camada oculta: \"))\n",
    "        decaimentoOcul = int(input('\\033[1m' + \"Deseja realizar decaimento da taxa de aprendizagem da camada Oculta? (1 - Sim ou 2 - Não): \"))\n",
    "        if (decaimentoOcul == 1):\n",
    "            print('\\033[1m' + \"Digite: \")\n",
    "            print('\\033[1m' + \"1- Decaimento Linear: \")\n",
    "            print('\\033[1m' + \"2- Decaimento exponencial: \")\n",
    "            tipoDecaimentoOcul = int(input(\"\"))\n",
    "        else:\n",
    "            tipoDecaimentoOcul = 0\n",
    "        taxaAprendSai = float(input('\\033[1m' + \"Digite a taxa de aprendizado da camada de saída: \"))\n",
    "        taxaAprendSaiIni = taxaAprendSai\n",
    "        decaimentoSai = int(input('\\033[1m' + \"Deseja realizar decaimento da taxa de aprendizagem da camada de Saída? (1 - Sim ou 2 - Não): \"))\n",
    "        if (decaimentoSai == 1):\n",
    "            print('\\033[1m' + \"Digite: \")\n",
    "            print('\\033[1m' + \"1- Decaimento Linear: \")\n",
    "            print('\\033[1m' + \"2- Decaimento exponencial: \")\n",
    "            tipoDecaimentoSai = int(input(\"\"))\n",
    "        else:\n",
    "            tipoDecaimentoSai = 0\n",
    "        print('\\033[1m' + \"Digite a quantidade de Neurônios da camada oculta: \")\n",
    "        print(\"1- Regra do Valor Médio\")\n",
    "        print(\"2- Regra de Kolmogorov\")\n",
    "        print(\"3- Regra de Fletcher-Gloss\")\n",
    "        print(\"4- Regra da Raiz quadrada\")\n",
    "        print(\"5- Inserir um valor manualmente\")\n",
    "        escolha = int(input(\"\"))\n",
    "        if (escolha == 1):\n",
    "                # Regra do valor médio\n",
    "                qtde =  int((NumClasses + NumColunas)/2)\n",
    "        if (escolha == 2):\n",
    "                # Regra de Kolmogorov\n",
    "                qtde =  int((2 * NumColunas) + 1)\n",
    "        if (escolha == 3):\n",
    "                # Regra de Fletcher-Gloss\n",
    "                a = int((2* (NumColunas ** (1/2)) + NumClasses))\n",
    "                b = 2 * NumColunas + 1\n",
    "                qtde = int(randint(a, b))      \n",
    "        if (escolha == 4):\n",
    "                # Regra da raiz quadrada\n",
    "                qtde = int((NumClasses * NumColunas)**(1/2))\n",
    "        if (escolha == 5):\n",
    "                qtde = int(input(\"Digite a quantidade de neurônios que deseja inserir\"))\n",
    "        NeuroniosCamadaOculta = qtde\n",
    "        print(NeuroniosCamadaOculta)\n",
    "        print('\\033[1m' + \"Função de ativação: \")\n",
    "        print(\"1- Logística\")\n",
    "        print(\"2- Tangente Hiperbólica\")\n",
    "        Usu_func = int(input(\"Digite o valor: \"))\n",
    "        TaxaRejeicao = float(input(\"Digite o valor para a Faixa de Rejeição: \"))        \n",
    "        print('\\033[1m' + \"Validação Cruzada - K-fold \")\n",
    "        K = int(input(\"Digite a quantidade de partes para a Validação Cruzada: \"))\n",
    "        \n",
    "        PesoBiasOculta = np.dot((-0.5 + (0.5 + 0.5)), np.random.random((NeuroniosCamadaOculta,1)))\n",
    "        MelhorPeso0 = np.zeros((NumColunas,NeuroniosCamadaOculta))\n",
    "        MelhorPeso1 = np.zeros(NeuroniosCamadaOculta, NumClasses)\n",
    "        \n",
    "        if (Usu_func == 1):        \n",
    "            pesos0 = np.dot((-0.5 + (0.5 + 0.5)), np.random.random((NumColunas,NeuroniosCamadaOculta)))\n",
    "            pesos1 = np.dot((-0.5 + (0.5 + 0.5)), np.random.random((NeuroniosCamadaOculta, NumClasses)))\n",
    "        else:\n",
    "            pesos0 = np.dot((-1.45 + (1.45 + 1.45)), np.random.random((NumColunas,NeuroniosCamadaOculta)))\n",
    "            pesos1 = np.dot((-1.45 + (1.45 + 1.45)), np.random.random((NeuroniosCamadaOculta, NumClasses)))\n",
    "            \n",
    "        menorErro = 10000\n",
    "        melhorEpoca = epocas\n",
    "        \n",
    "taxaAprendOculIni = taxaAprendOcul\n",
    "taxaAprendSaiIni = taxaAprendSai"
   ]
  },
  {
   "cell_type": "code",
   "execution_count": null,
   "metadata": {},
   "outputs": [],
   "source": [
    "\n",
    "\n",
    "classes_trei = np.array(classes_trei, dtype=float)\n",
    "classes_test = np.array(classes_test, dtype=float)\n",
    "\n",
    "if (Usu_func == 2):\n",
    "    for i in range (classes_trei.shape[0]):\n",
    "        if (classes_trei[i][0] == 0):\n",
    "            classes_trei[i][0] = classes_trei[i][0] -1\n",
    "        if (classes_trei[i][1] == 0):\n",
    "            classes_trei[i][1] = classes_trei[i][1] -1\n",
    "            \n",
    "    for i in range (classes_test.shape[0]):\n",
    "        if (classes_test[i][0] == 0):\n",
    "            classes_test[i][0] = classes_test[i][0] -1\n",
    "        if (classes_test[i][1] == 0):\n",
    "            classes_test[i][1] = classes_test[i][1] -1\n",
    "\n"
   ]
  },
  {
   "cell_type": "markdown",
   "metadata": {},
   "source": [
    "### Validação Cruzada"
   ]
  },
  {
   "cell_type": "code",
   "execution_count": null,
   "metadata": {},
   "outputs": [],
   "source": [
    "def SepararTeste(a, inicio, fim, tamanho, NumColunas):\n",
    "    aux = 0\n",
    "    x = np.zeros((tamanho, NumColunas))    \n",
    "    while (inicio < fim):\n",
    "        x[aux] = a[inicio]\n",
    "        aux = aux + 1\n",
    "        inicio = inicio + 1\n",
    "    return(x)"
   ]
  },
  {
   "cell_type": "code",
   "execution_count": null,
   "metadata": {},
   "outputs": [],
   "source": [
    "def SepararTreino(a, inicio, fim, tamanho, NumColunas):\n",
    "    aux = 0\n",
    "    x = np.zeros(((len(a) - tamanho), NumColunas))    \n",
    "    for i in range(len(a)):\n",
    "        if ((i < inicio) or (i >= fim)):\n",
    "            x[aux] = a[i]\n",
    "            aux = aux + 1\n",
    "    return(x)"
   ]
  },
  {
   "cell_type": "markdown",
   "metadata": {},
   "source": [
    "### Acrescenta uma coluna para os valores da Taxa de Rejeição"
   ]
  },
  {
   "cell_type": "code",
   "execution_count": null,
   "metadata": {},
   "outputs": [],
   "source": [
    "temp = classes_trei\n",
    "num_entradas_trei = len(entradas_trei)\n",
    "classes_trei = np.zeros((num_entradas_trei, NumClasses))\n",
    "\n",
    "for i in range(num_entradas_trei):\n",
    "    for j in range(NumClasses-1):\n",
    "        classes_trei[i][j] = temp[i][j]  \n",
    "    \n",
    "camadaSaida = np.zeros((num_entradas_trei, NumClasses))"
   ]
  },
  {
   "cell_type": "markdown",
   "metadata": {},
   "source": [
    "## Treinamento"
   ]
  },
  {
   "cell_type": "code",
   "execution_count": null,
   "metadata": {
    "scrolled": true
   },
   "outputs": [],
   "source": [
    "if (carregarPesos != 1):\n",
    "    mediaErroTest_Val = np.zeros(epocas)\n",
    "   # menorErro = np.zeros(epocas + 1)\n",
    "    \n",
    "    mediaErro = np.zeros(epocas)    \n",
    "    variancia = np.zeros(epocas)\n",
    "    Erro = np.zeros(num_entradas_trei)    \n",
    "    \n",
    "    for i in range(epocas):            \n",
    "        tamanho = int(len(entradas_trei)/K)\n",
    "        inicio = 0\n",
    "        fim = tamanho\n",
    "        camadaSaida_Val = np.zeros((tamanho, NumClasses))\n",
    "        #print(\"epoca \" + str(i))\n",
    "        \n",
    "        for m in range(K): \n",
    "           # print(\"K \" + str(m))\n",
    "            entradas_trei_val = SepararTreino(entradas_trei, inicio, fim, tamanho, NumColunas)\n",
    "            classes_trei_val = SepararTreino(classes_trei, inicio, fim, tamanho, NumClasses)\n",
    "            \n",
    "            entradas_val = SepararTeste(entradas_trei, inicio, fim, tamanho, NumColunas)\n",
    "            classes_val = SepararTeste(classes_trei, inicio, fim, tamanho, NumClasses)\n",
    "            \n",
    "            # iteração\n",
    "            for j in range(entradas_trei_val.shape[0]):\n",
    "            \n",
    "                # Feed Foward\n",
    "                entrada = entradas_trei_val[j].reshape(1,NumColunas)\n",
    "                somaSinapse0 = np.dot(entrada, pesos0)        \n",
    "                camadaOculta = funcaoAtivacao(somaSinapse0 - PesoBiasOculta.T, Usu_func)  \n",
    "                soma = np.dot(camadaOculta, pesos1)\n",
    "                camadaSaida[j]  = funcaoAtivacao(soma, Usu_func)\n",
    "\n",
    "                # Back Propagation\n",
    "                erroCamadaSaida = classes_trei_val[j] - camadaSaida[j]\n",
    "                Erro[j] =  np.mean(np.abs(erroCamadaSaida))\n",
    "                \n",
    "                # Atualização dos pesos                \n",
    "                derivadaSaida  = derivadaParcial(camadaSaida[j], Usu_func)\n",
    "                GradienteSaida = derivadaSaida * erroCamadaSaida\n",
    "                GradienteSaida = GradienteSaida.reshape(1,NumClasses) \n",
    "                pesos1 = pesos1 + taxaAprendSai * camadaOculta.T * GradienteSaida \n",
    "                DerivadaOculta = derivadaParcial(camadaOculta, Usu_func)\n",
    "                GradienteOculta = (DerivadaOculta.T * (np.dot(pesos1, GradienteSaida.T)))\n",
    "                pesos0 = pesos0 + taxaAprendOcul * (entrada.T * GradienteOculta.T);        \n",
    "\n",
    "                # Decaimento da taxa de Aprendizagem\n",
    "                taxaAprendOcul = decaimentoTaxaAprend(decaimentoOcul, tipoDecaimentoOcul, taxaAprendOculIni, j, num_entradas_trei)\n",
    "                taxaAprendSai = decaimentoTaxaAprend(decaimentoSai, tipoDecaimentoSai, taxaAprendSaiIni, j, num_entradas_trei)\n",
    "                \n",
    "                                \n",
    "            # Validação\n",
    "           # mediaErroTest_Val = np.zeros(entradas_val.shape[0])\n",
    "            for n in range(entradas_val.shape[0]):     \n",
    "                    # Feed Foward\n",
    "                entrada_v = entradas_val[n].reshape(1, NumColunas)\n",
    "                somaSinapse0_v = np.dot(entrada_v, pesos0)        \n",
    "                camadaOculta_v = funcaoAtivacao(somaSinapse0_v + PesoBiasOculta.T, Usu_func)        \n",
    "                camadaSaida_Val[n] = funcaoAtivacao(np.dot(camadaOculta_v, pesos1), Usu_func)\n",
    "\n",
    "                # Variância\n",
    "                varianciaVal = CalcVar(classes_val, camadaSaida_Val)\n",
    "              #  DPVal = (varianciaVal/varianciaVal.shape) ** (1/2)\n",
    "              #  print(DPVal)\n",
    "\n",
    "                # cálculo do erro\n",
    "                erroCamadaSaida_Val = classes_val - camadaSaida_Val\n",
    "                \n",
    "                # Média absoluta do erro\n",
    "                                \n",
    "            # Atualização dos campos para a validação cruzada\n",
    "            inicio = inicio + tamanho\n",
    "            fim = tamanho + fim\n",
    "            ErroK = np.mean(np.abs(Erro))\n",
    "            \n",
    "        mediaErroTest_Val[i] = np.mean(np.abs(erroCamadaSaida_Val))\n",
    "\n",
    "        if (mediaErroTest_Val[i] < menorErro):\n",
    "            menorErro = mediaErroTest_Val[i]\n",
    "            melhorEpoca = i\n",
    "            MelhorPeso0 = pesos0\n",
    "            MelhorPeso1 = pesos1        \n",
    "        print(\"Época atual: \"+ str(i)+ \" de \" + str(epocas))\n",
    "        print(\"Melhor época: \"+ str(melhorEpoca))\n",
    "        print(\"Menor Erro: \"+ str(menorErro))\n",
    "        print(\"Erro na validação: \"+ str(mediaErroTest_Val[i]))\n",
    "   \n",
    "                \n",
    "        mediaErro[i] = np.mean(np.abs(ErroK)) \n",
    "        variancia[i] = CalcVar(classes_trei, camadaSaida)  \n",
    "        DP = (variancia/variancia.shape) ** (1/2)\n",
    "             \n",
    "\n",
    "    valor  = 0\n",
    "    import os\n",
    "    \n",
    "\n",
    "    if not os.path.exists(str(caminho)+\"/\"):\n",
    "        os.mkdir(str(caminho))      \n",
    "    \n",
    "    \n",
    "\n",
    "    if not os.path.exists(str(caminho)+\"/\"+str(int(valor))):\n",
    "        os.mkdir(str(caminho)+ \"/\" + str(int(valor)))    \n",
    "\n",
    "    else:       \n",
    "        b = os.listdir(caminho)\n",
    "        a = np.zeros(len(b))\n",
    "\n",
    "        for i in range(len(b)):\n",
    "            a[i] = int(b[i])\n",
    "\n",
    "        valor = np.max(a)\n",
    "        valor = valor + 1\n",
    "\n",
    "        os.mkdir(str(caminho) + \"/\"+ str(int(valor)))\n",
    "    \n",
    "    np.save(str(caminho) + \"/\"+ str(int(valor))+\"/epocas\", epocas)\n",
    "    np.save(str(caminho) + \"/\"+ str(int(valor))+\"/taxaAprendOcul\", taxaAprendOcul)\n",
    "    np.save(str(caminho) + \"/\"+ str(int(valor))+\"/decaimentoOcul\", decaimentoOcul)\n",
    "    np.save(str(caminho) + \"/\"+ str(int(valor))+\"/tipoDecaimentoOcul\", tipoDecaimentoOcul)\n",
    "    np.save(str(caminho) + \"/\"+ str(int(valor))+\"/taxaAprendSai\", taxaAprendSai)\n",
    "    np.save(str(caminho) + \"/\"+ str(int(valor))+\"/decaimentoSai\", decaimentoSai)\n",
    "    np.save(str(caminho) + \"/\"+ str(int(valor))+\"/tipoDecaimentoSai\", tipoDecaimentoSai)\n",
    "    np.save(str(caminho) + \"/\"+ str(int(valor))+\"/escolha\", escolha)\n",
    "    np.save(str(caminho) + \"/\"+ str(int(valor))+\"/NeuroniosCamadaOculta\", NeuroniosCamadaOculta)\n",
    "    np.save(str(caminho) + \"/\"+ str(int(valor))+\"/Usu_func\", Usu_func)\n",
    "    np.save(str(caminho) + \"/\"+ str(int(valor))+\"/TaxaRejeicao\", TaxaRejeicao)\n",
    "    np.save(str(caminho) + \"/\"+ str(int(valor))+\"/PesoBiasOculta\", PesoBiasOculta)\n",
    "    np.save(str(caminho) + \"/\"+ str(int(valor))+\"/pesos0\", MelhorPeso0)\n",
    "    np.save(str(caminho) + \"/\"+ str(int(valor))+\"/pesos1\", MelhorPeso1)\n",
    "    np.save(str(caminho) + \"/\"+ str(int(valor))+\"/Erro\", Erro)\n",
    "    np.save(str(caminho) + \"/\"+ str(int(valor))+\"/variancia\", variancia)\n",
    "    np.save(str(caminho) + \"/\"+ str(int(valor))+\"/K\", K)\n",
    "    np.save(str(caminho) + \"/\"+ str(int(valor))+\"/mediaErro\", mediaErro)\n",
    "    np.save(str(caminho) + \"/\"+ str(int(valor))+\"/menorErro\", menorErro)\n",
    "    np.save(str(caminho) + \"/\"+ str(int(valor))+\"/melhorEpoca\", melhorEpoca)\n",
    "    np.save(str(caminho) + \"/\"+ str(int(valor))+\"/mediaErroTest_Val\", mediaErroTest_Val)"
   ]
  },
  {
   "cell_type": "code",
   "execution_count": null,
   "metadata": {},
   "outputs": [],
   "source": [
    "print(variancia)\n",
    "print(DP)"
   ]
  },
  {
   "cell_type": "code",
   "execution_count": null,
   "metadata": {},
   "outputs": [],
   "source": [
    "plt.rcParams['figure.figsize'] = (20, 16)\n",
    "plt.subplot(3, 2, 1)\n",
    "plt.title(\"Erro Médio do Treinamento\")\n",
    "plt.plot(mediaErro, color='blue')   \n",
    "\n",
    "plt.subplot(3, 2, 2)\n",
    "plt.title(\"Variância\")\n",
    "plt.plot(variancia, color='black')\n",
    "\n",
    "\n",
    "plt.subplot(3, 2, 3)\n",
    "plt.title(\"Erro Médio do Teste \")\n",
    "plt.plot(mediaErroTest_Val, color='green')\n",
    "\n",
    "\n",
    "plt.subplot(3, 2, 4)\n",
    "plt.title(\"Desvio padrão \")\n",
    "plt.plot(DP, color='red')\n",
    "    \n",
    "    \n",
    "print(melhorEpoca)\n",
    "print(menorErro)\n",
    "print(\"Variância: \"+ str(variancia[melhorEpoca]))\n",
    "plt.subplot(3, 2, 5)\n",
    "plt.title(\"Menor Erro e melhor época\")\n",
    "plt.plot(mediaErro, color='blue')\n",
    "plt.plot(mediaErroTest_Val, color='green')\n",
    "plt.scatter(melhorEpoca, menorErro, s=100, color='green')\n",
    "plt.legend(['Erro Treino', 'Erro Teste', 'Menor erro'], loc='upper left')\n",
    "plt.show()"
   ]
  },
  {
   "cell_type": "code",
   "execution_count": null,
   "metadata": {},
   "outputs": [],
   "source": [
    "plt.rcParams['figure.figsize'] = (10, 7)\n",
    "plt.title(\"Menor Erro e melhor época\")\n",
    "plt.plot(mediaErro, color='blue')\n",
    "plt.plot(mediaErroTest_Val, color='green')\n",
    "plt.scatter(melhorEpoca, menorErro, s=100, color='red')\n",
    "plt.legend(['Erro Treino', 'Erro Teste', 'Menor erro'], loc='upper left')\n",
    "plt.show()"
   ]
  },
  {
   "cell_type": "markdown",
   "metadata": {},
   "source": [
    "## Resultados obtidos com os pesos finais"
   ]
  },
  {
   "cell_type": "code",
   "execution_count": null,
   "metadata": {},
   "outputs": [],
   "source": [
    "camadaSaidaTrei = np.zeros((num_entradas_trei, NumClasses))\n",
    "\n",
    "varianciaTrei = np.zeros((num_entradas_trei))\n",
    "\n",
    "for j in range(num_entradas_trei):     \n",
    "    # Feed Foward\n",
    "    entrada = entradas_trei[j].reshape(1, NumColunas)\n",
    "    somaSinapse0 = np.dot(entrada, pesos0)        \n",
    "    camadaOculta = funcaoAtivacao(somaSinapse0 + PesoBiasOculta.T, Usu_func)        \n",
    "    camadaSaidaTrei[j]  = funcaoAtivacao(np.dot(camadaOculta, pesos1), Usu_func)\n",
    "    \n",
    "# Variância\n",
    "varianciaTrei = CalcVar(classes_trei, camadaSaidaTrei)\n",
    "    \n",
    "# cálculo do erro\n",
    "erroCamadaSaida = classes_trei - camadaSaidaTrei\n",
    "\n",
    "# Média absoluta do erro\n",
    "mediaErroTrei = np.mean(np.abs(erroCamadaSaida))\n",
    "print(\"Média Absoluta do Erro: \"+ str(mediaErroTrei))\n",
    "print(\"Variância: \"+ str(varianciaTrei))"
   ]
  },
  {
   "cell_type": "markdown",
   "metadata": {},
   "source": [
    "### Taxa de Rejeição"
   ]
  },
  {
   "cell_type": "code",
   "execution_count": null,
   "metadata": {},
   "outputs": [],
   "source": [
    "for i in range(len(camadaSaidaTrei)):\n",
    "    a = camadaSaidaTrei[i]\n",
    "    b = np.sort(a)   \n",
    "    if ((b[len(b)-1] - b[len(b)-2]) <= TaxaRejeicao):        \n",
    "        for j in range (camadaSaidaTrei.shape[1]-1):\n",
    "            camadaSaidaTrei[i][j] = 0\n",
    "        camadaSaidaTrei[i][camadaSaidaTrei.shape[1]-1] = 1"
   ]
  },
  {
   "cell_type": "code",
   "execution_count": null,
   "metadata": {},
   "outputs": [],
   "source": [
    "mediaErroTrein = str(np.mean(np.abs(mediaErroTrei)))"
   ]
  },
  {
   "cell_type": "markdown",
   "metadata": {},
   "source": [
    "### Organização das Saídas para plotagem da Matriz de Confusão"
   ]
  },
  {
   "cell_type": "code",
   "execution_count": null,
   "metadata": {},
   "outputs": [],
   "source": [
    "classesN = [np.argmax(t) for t in classes_trei]\n",
    "SaidasCalcTrein =  [np.argmax(t) for t in camadaSaidaTrei]\n",
    "\n",
    "classesPreditas = np.zeros((camadaSaidaTrei.shape[0]))\n",
    "\n",
    "for i in range(camadaSaidaTrei.shape[0]):         \n",
    "    classesPreditas[i] =  camadaSaidaTrei[i][classesN[i]]\n",
    "    \n",
    "print(\"Variância entre as saídas calculadas \"+ str(np.var(classesPreditas)))"
   ]
  },
  {
   "cell_type": "code",
   "execution_count": null,
   "metadata": {},
   "outputs": [],
   "source": [
    "from sklearn.metrics import confusion_matrix\n",
    "import matplotlib.pyplot as plt\n",
    "import itertools\n",
    "\n",
    "def plot_confusion_matrix(cm, classes,\n",
    "                          normalize=False,\n",
    "                          title='Matriz de Confusão',\n",
    "                          cmap=plt.cm.Blues):   \n",
    "\n",
    "    plt.imshow(cm, interpolation='nearest', cmap=cmap)\n",
    "    plt.title(title)\n",
    "    plt.colorbar()\n",
    "    tick_marks = np.arange(len(classes))\n",
    "    plt.xticks(tick_marks, classes, rotation=45)\n",
    "    plt.yticks(tick_marks, classes)\n",
    "\n",
    "    fmt = '.2f' if normalize else 'd'\n",
    "    thresh = cm.max() / 2.\n",
    "    for i, j in itertools.product(range(cm.shape[0]), range(cm.shape[1])):\n",
    "        plt.text(j, i, format(cm[i, j], fmt),\n",
    "                 horizontalalignment=\"center\",\n",
    "                 color=\"white\" if cm[i, j] > thresh else \"black\")\n",
    "\n",
    "    plt.tight_layout()\n",
    "    plt.ylabel('Saída correta')\n",
    "    plt.xlabel('Saída encontrada')    "
   ]
  },
  {
   "cell_type": "code",
   "execution_count": null,
   "metadata": {},
   "outputs": [],
   "source": [
    "errosTrei = []\n",
    "rejeiTrei = []\n",
    "cont = 0\n",
    "for i in range (len(classesN)):\n",
    "    if (classesN[i] != SaidasCalcTrein[i] and SaidasCalcTrein[i] != 2):\n",
    "        cont += 1\n",
    "\n",
    "\n",
    "print({x:errosTrei.count(x) for x in set(errosTrei)})\n",
    "print (\"Total de erros \"+str(cont))\n",
    "        \n",
    "cont = 0\n",
    "for i in range (len(classesN)):\n",
    "    if (SaidasCalcTrein[i] == 2):\n",
    "        cont += 1\n",
    "\n",
    "        \n",
    "print({x:rejeiTrei.count(x) for x in set(rejeiTrei)})\n",
    "print (\"Faixa de rejeição \"+str(cont))\n"
   ]
  },
  {
   "cell_type": "code",
   "execution_count": null,
   "metadata": {
    "scrolled": true
   },
   "outputs": [],
   "source": [
    "plt.rcParams['figure.figsize'] = (7,5)\n",
    "sns.set_style(\"dark\")\n",
    "cm = confusion_matrix(classesN, SaidasCalcTrein)\n",
    "\n",
    "if (carregarPesos != 1):\n",
    "    np.save(str(caminho) + \"/\"+ str(int(valor))+\"/errosTrei\", errosTrei)\n",
    "    np.save(str(caminho) + \"/\"+ str(int(valor))+\"/rejeiTrei\", rejeiTrei)\n",
    "    np.save(str(caminho) + \"/\"+ str(int(valor))+\"/MC_treino\", cm)\n",
    "#print(cm)\n",
    "plot_confusion_matrix(cm, \n",
    "                      classes=['0', '1','FR'],\n",
    "                      title='Treinamento')\n",
    "plt.show()"
   ]
  },
  {
   "cell_type": "markdown",
   "metadata": {},
   "source": [
    "### Taxa de Erro retirando os valores que entraram na taxa de rejeição"
   ]
  },
  {
   "cell_type": "code",
   "execution_count": null,
   "metadata": {},
   "outputs": [],
   "source": [
    "quantTotal = 0;\n",
    "NClasses = NumClasses - 2\n",
    "\n",
    "for i in range(len(SaidasCalcTrein)):\n",
    "    if (SaidasCalcTrein[i] <= NClasses):\n",
    "        quantTotal += 1\n",
    "erros = 0\n",
    "\n",
    "for i in range (len(SaidasCalcTrein)):\n",
    "    if ((SaidasCalcTrein[i] != classesN[i]) and (SaidasCalcTrein[i] <= NClasses)):\n",
    "        erros += 1\n",
    "\n",
    "Taxa_de_erro_Trei =  (erros * 100)/quantTotal\n",
    "acerto_trei = 100 - Taxa_de_erro_Trei\n",
    "print(\"Taxa de erro desconsiderando as saídas que entraram na taxa de rejeição: \"+str(Taxa_de_erro_Trei))\n",
    "print(\"Percentual de acerto: \"+ str(100 - Taxa_de_erro_Trei))"
   ]
  },
  {
   "cell_type": "markdown",
   "metadata": {},
   "source": [
    "## Testes"
   ]
  },
  {
   "cell_type": "markdown",
   "metadata": {},
   "source": [
    "### Acrescenta uma coluna para os valores da Taxa de Rejeição"
   ]
  },
  {
   "cell_type": "code",
   "execution_count": null,
   "metadata": {},
   "outputs": [],
   "source": [
    "num_entradas_test = len(entradas_test)\n",
    "tempTest = classes_test\n",
    "classes_test = np.zeros((num_entradas_test, NumClasses))\n",
    "\n",
    "for i in range(num_entradas_test):\n",
    "    for j in range(NumClasses-1):\n",
    "        classes_test[i][j] = tempTest[i][j]  "
   ]
  },
  {
   "cell_type": "code",
   "execution_count": null,
   "metadata": {},
   "outputs": [],
   "source": [
    "camadaSaidaTest = np.zeros((num_entradas_test, NumClasses))\n",
    "varianciaTest = np.zeros((num_entradas_test))\n",
    "\n",
    "for j in range(num_entradas_test):     \n",
    "    # Feed Foward\n",
    "    entrada = entradas_test[j].reshape(1,NumColunas)\n",
    "    somaSinapse0 = np.dot(entrada, pesos0)        \n",
    "    camadaOculta = funcaoAtivacao(somaSinapse0 + PesoBiasOculta.T, Usu_func)        \n",
    "    camadaSaidaTest[j]  = funcaoAtivacao(np.dot(camadaOculta, pesos1), Usu_func)\n",
    "    \n",
    "# Variância\n",
    "varianciaTest = CalcVar(classes_test, camadaSaidaTest)\n",
    "    \n",
    "# cálculo do erro\n",
    "erroCamadaSaida = classes_test - camadaSaidaTest\n",
    "\n",
    "# Média absoluta do erro\n",
    "mediaErroTest = np.mean(np.abs(erroCamadaSaida))\n",
    "print(\"Média Absoluta do Erro: \"+ str(mediaErroTest))\n",
    "print(\"Variância: \"+ str(varianciaTest))"
   ]
  },
  {
   "cell_type": "markdown",
   "metadata": {},
   "source": [
    "### Taxa de Rejeição"
   ]
  },
  {
   "cell_type": "code",
   "execution_count": null,
   "metadata": {},
   "outputs": [],
   "source": [
    "for i in range(len(camadaSaidaTest)):\n",
    "    a = camadaSaidaTest[i]\n",
    "    b = np.sort(a)   \n",
    "    if ((b[len(b)-1] - b[len(b)-2]) <= TaxaRejeicao):        \n",
    "        for j in range (camadaSaidaTest.shape[1]-1):\n",
    "            camadaSaidaTest[i][j] = 0\n",
    "        camadaSaidaTest[i][camadaSaidaTest.shape[1]-1] = 1"
   ]
  },
  {
   "cell_type": "markdown",
   "metadata": {},
   "source": [
    "### Organização das Saídas para plotagem da Matriz de Confusão"
   ]
  },
  {
   "cell_type": "code",
   "execution_count": null,
   "metadata": {},
   "outputs": [],
   "source": [
    "classesN = [np.argmax(t) for t in classes_test]"
   ]
  },
  {
   "cell_type": "code",
   "execution_count": null,
   "metadata": {},
   "outputs": [],
   "source": [
    "SaidasCalcTest =  [np.argmax(t) for t in camadaSaidaTest]"
   ]
  },
  {
   "cell_type": "code",
   "execution_count": null,
   "metadata": {},
   "outputs": [],
   "source": [
    "errosTest = []\n",
    "rejeiTest = []\n",
    "cont = 0\n",
    "for i in range (len(classesN)):\n",
    "    if (classesN[i] != SaidasCalcTest[i] and SaidasCalcTest[i] != 2):\n",
    "        cont += 1\n",
    "\n",
    "\n",
    "print({x:errosTest.count(x) for x in set(errosTest)})\n",
    "print (\"Total de erros \"+str(cont))\n",
    "        \n",
    "cont = 0\n",
    "for i in range (len(classesN)):\n",
    "    if (SaidasCalcTest[i] == 2):\n",
    "        cont += 1\n",
    "\n",
    "        \n",
    "print({x:rejeiTest.count(x) for x in set(rejeiTest)})\n",
    "print (\"Faixa de rejeição \"+str(cont))"
   ]
  },
  {
   "cell_type": "code",
   "execution_count": null,
   "metadata": {
    "scrolled": true
   },
   "outputs": [],
   "source": [
    "cm = confusion_matrix(classesN, SaidasCalcTest)\n",
    "\n",
    "if (carregarPesos != 1):\n",
    "    np.save(str(caminho) + \"/\"+ str(int(valor))+\"/errosTest\", errosTest)\n",
    "    np.save(str(caminho) + \"/\"+ str(int(valor))+\"/rejeiTest\", rejeiTest)\n",
    "    np.save(str(caminho) + \"/\"+ str(int(valor))+\"/MC_teste\", cm)\n",
    "\n",
    "print(cm)\n",
    "plot_confusion_matrix(cm, \n",
    "                      classes=['0', '1', 'FR'],\n",
    "                      title='Teste')\n",
    "plt.show()"
   ]
  },
  {
   "cell_type": "markdown",
   "metadata": {},
   "source": [
    "### Taxa de Erro retirando os valores que entraram na taxa de rejeição"
   ]
  },
  {
   "cell_type": "code",
   "execution_count": null,
   "metadata": {},
   "outputs": [],
   "source": [
    "quantTotal = 0;\n",
    "NClasses = NumClasses - 2\n",
    "\n",
    "for i in range(len(SaidasCalcTest)):\n",
    "    if (SaidasCalcTest[i] <= NClasses):\n",
    "        quantTotal += 1\n",
    "erros = 0\n",
    "\n",
    "for i in range (len(SaidasCalcTest)):\n",
    "    if ((SaidasCalcTest[i] != classesN[i]) and (SaidasCalcTest[i] <= NClasses)):\n",
    "        erros += 1\n",
    "\n",
    "Taxa_de_erro_Test =  (erros * 100)/quantTotal\n",
    "acerto_test = 100 - Taxa_de_erro_Test\n",
    "print(\"Taxa de erro desconsiderando as saídas que entraram na taxa de rejeição: \"+str(Taxa_de_erro_Test))\n",
    "print(\"Percentual de acerto: \"+ str(100 - Taxa_de_erro_Test))"
   ]
  },
  {
   "cell_type": "markdown",
   "metadata": {},
   "source": [
    "### Criar DataSet das Informações sobre as execuções"
   ]
  },
  {
   "cell_type": "markdown",
   "metadata": {},
   "source": [
    "#### Abre o arquivo"
   ]
  },
  {
   "cell_type": "code",
   "execution_count": null,
   "metadata": {},
   "outputs": [],
   "source": [
    "if (carregarPesos != 1):  \n",
    "    caminhoTexto = '../resultados/MLP/'+str(NomeBase)+'Dados.txt'\n",
    "    \n",
    "    if not os.path.exists(caminhoTexto):\n",
    "        arquivo = open(caminhoTexto, 'w')\n",
    "        arquivo.writelines(\"epocas, taxaAprendOculIni, taxaAprendOcul, decaimentoOcul, tipoDecaimentoOcul, taxaAprendSaiIni, taxaAprendSai, decaimentoSai, tipoDecaimentoSai, escolha, NeuroniosCamadaOculta, Usu_func, TaxaRejeicao, K-folds, VarianciaTrei, VarianciaTest, MediaErroTrei, MediaErroTest, Taxa_de_acerto_Trei, Taxa_de_acerto_Test, melhorEpoca\")\n",
    "        arquivo.close()     \n",
    "    \n",
    "    \n",
    "    \n",
    "    \n",
    "    arquivo = open(caminhoTexto, 'r')\n",
    "    conteudo = arquivo.readlines()\n",
    "        \n",
    "    conteudo.append(\"\\n\"+str(epocas+epocasAnt)+\", \"+ str(taxaAprendOculIni)+\", \"+ str(taxaAprendOcul)+\", \"+ str(decaimentoOcul)+\", \"+ str(tipoDecaimentoOcul)+\", \"+ str(taxaAprendSaiIni) +\", \"+ str(taxaAprendSai)+\", \"+ str(decaimentoSai)+\", \"+ str(tipoDecaimentoSai)+\",\"+ str(escolha) +\", \"+ str(NeuroniosCamadaOculta)+\", \"+ str(Usu_func)+\", \"+str(TaxaRejeicao)+\", \"+str(K)+\", \"+ str(variancia[len(variancia)-1])+\", \"+ str(varianciaTest)+ \", \"+str(mediaErroTrein)+\", \"+str(mediaErroTest)+ \", \"+ str(acerto_trei)+ \",\"+ str(acerto_test)+\",\"+ str(melhorEpoca))\n",
    "\n",
    "    #### Abre o arquivo como escrita, escreve o conteúdo e fecha o mesmo\n",
    "        \n",
    "    arquivo = open('../resultados/MLP/'+str(NomeBase)+'Dados.txt', 'w')\n",
    "    arquivo.writelines(conteudo)\n",
    "    arquivo.close()"
   ]
  },
  {
   "cell_type": "markdown",
   "metadata": {},
   "source": [
    "#### Leitura dos dados existentes"
   ]
  },
  {
   "cell_type": "code",
   "execution_count": null,
   "metadata": {
    "scrolled": true
   },
   "outputs": [],
   "source": [
    "print('../resultados/'+str(NomeBase)+'Dados.txt')\n",
    "\n",
    "arquivo = pd.read_csv('../resultados/MLP/'+str(NomeBase)+'Dados.txt')\n",
    "arquivo = arquivo.sort_values(by=[' MediaErroTest', ' MediaErroTrei'], ascending=True)\n",
    "print(\"10 Melhores Resultados - Base \"+ str(NomeBase))\n",
    "arquivo.head(10)"
   ]
  },
  {
   "cell_type": "markdown",
   "metadata": {},
   "source": [
    "# Resultados obtidos"
   ]
  },
  {
   "cell_type": "code",
   "execution_count": null,
   "metadata": {},
   "outputs": [],
   "source": [
    "print(\"\\n Épocas: \\t \\t \\t \\t \\t \\t \\t \\t\"+str(epocas+epocasAnt)+\n",
    "      \" \\n Taxa de Aprendizado Inicial da Camada Oculta: \\t \\t \\t \\t\"+ str(taxaAprendOculIni)+\n",
    "      \" \\n Taxa de Aprendizado Final da Camada Oculta: \\t \\t \\t \\t\"+ str(taxaAprendOcul)+\n",
    "      \" \\n Decaimento da Taxa de Aprendizado da Camada Oculta: \\t \\t \\t\"+ str(decaimentoOcul)+\n",
    "      \" \\n Tipo de Decaimento da Taxa de Aprendizado da Camada Oculta: \\t  \\t\"+ str(tipoDecaimentoOcul)+\n",
    "      \" \\n Taxa de Aprendizado Inicial da Camada de Saída:  \\t \\t \\t\"+ str(taxaAprendSaiIni) +\n",
    "      \" \\n Taxa de Aprendizado Final da Camada de Saída:  \\t \\t \\t\"+ str(taxaAprendSai)+\n",
    "      \" \\n Decaimento da Taxa de Aprendizado da Camada de Saída:  \\t \\t\"+ str(decaimentoSai)+\n",
    "      \" \\n Tipo de Decaimento da Taxa de Aprendizado da Camada Oculta:  \\t \\t\"+ str(tipoDecaimentoSai)+\n",
    "      \" \\n Escolha do método da quantidade de Neurônios da Camada Oculta: \\t\"+ str(escolha) +\n",
    "      \" \\n Quantidade de Neurônios da Camada Oculta: \\t \\t \\t \\t\"+ str(NeuroniosCamadaOculta)+\n",
    "      \" \\n Função de Ativação: \\t \\t \\t \\t \\t \\t \\t\"+ str(Usu_func)+\n",
    "      \" \\n Taxa de Rejeição: \\t \\t \\t \\t \\t \\t \\t\"+str(TaxaRejeicao)+\n",
    "      \" \\n Variância do Treinamento: \\t \\t \\t \\t \\t \\t\"+ str(variancia[len(variancia)-1])+\n",
    "      \" \\n Variância dos Testes: \\t \\t \\t \\t \\t \\t \\t\"+ str(varianciaTest)+ \n",
    "      \" \\n Erro Médio do Treinamento: \\t \\t \\t \\t \\t \\t\"+str(mediaErroTrein)+\n",
    "      \" \\n Erro Médio do Teste: \\t \\t \\t \\t \\t \\t \\t\"+str(mediaErroTest)+ \n",
    "      \" \\n Taxa de Erro do Treinamento (excluíndo os valores da TR): \\t \\t\"+ str(Taxa_de_erro_Trei)+ \n",
    "      \" \\n Taxa de Erro do Teste (excluíndo os valores da TR): \\t \\t \\t\"+ str(Taxa_de_erro_Test))"
   ]
  },
  {
   "cell_type": "code",
   "execution_count": null,
   "metadata": {},
   "outputs": [],
   "source": [
    "def classificacao(entrada):\n",
    "    entradas2 = np.zeros((entradas.shape[0] + 1, entradas.shape[1]))\n",
    "  \n",
    "    for i in range (entradas.shape[0]+1):\n",
    "        if (i == (entradas.shape[0])):\n",
    "            entradas2[i] = entrada\n",
    "           # print(entradas2[i])\n",
    "        else:\n",
    "            entradas2[i] =  entradas[i]            \n",
    "    maximo = i\n",
    "    a = entradas2[maximo]\n",
    "    \n",
    "    for i in range (len(base.columns)-1):\n",
    "        entradas2[:,i] = (entradas2[:,i] - np.mean(entradas2[:,i]))/entradas2[:,i].std(axis = 0)\n",
    "    \n",
    "    \n",
    "    somaSinapse0 = np.dot(entradas2[maximo], pesos0)        \n",
    "    camadaOculta = funcaoAtivacao(somaSinapse0 + PesoBiasOculta.T, Usu_func)        \n",
    "    camadaSaidaTest  = funcaoAtivacao(np.dot(camadaOculta, pesos1), Usu_func)\n",
    "    return camadaSaidaTest"
   ]
  }
 ],
 "metadata": {
  "kernelspec": {
   "display_name": "TensorFlow-GPU",
   "language": "python",
   "name": "tf-gpu"
  },
  "language_info": {
   "codemirror_mode": {
    "name": "ipython",
    "version": 3
   },
   "file_extension": ".py",
   "mimetype": "text/x-python",
   "name": "python",
   "nbconvert_exporter": "python",
   "pygments_lexer": "ipython3",
   "version": "3.6.8"
  }
 },
 "nbformat": 4,
 "nbformat_minor": 2
}
