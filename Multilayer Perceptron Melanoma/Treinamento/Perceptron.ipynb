{
 "cells": [
  {
   "cell_type": "markdown",
   "metadata": {},
   "source": [
    "# Perceptron Simples"
   ]
  },
  {
   "cell_type": "markdown",
   "metadata": {},
   "source": [
    "### Importação das bibliotecas necessárias"
   ]
  },
  {
   "cell_type": "code",
   "execution_count": null,
   "metadata": {},
   "outputs": [],
   "source": [
    "import numpy as np\n",
    "import pandas as pd \n",
    "from random import randint\n",
    "from sklearn.preprocessing import LabelEncoder  \n",
    "import seaborn as sns\n",
    "from sklearn.metrics import confusion_matrix\n",
    "from matplotlib import pyplot as plt"
   ]
  },
  {
   "cell_type": "markdown",
   "metadata": {},
   "source": [
    "### Carregamento da base"
   ]
  },
  {
   "cell_type": "code",
   "execution_count": null,
   "metadata": {},
   "outputs": [],
   "source": [
    "NomeBase = \"baseEngenhariaNumerica4\"\n",
    "NomeBase = \"balanceado\"\n",
    "\n",
    "\n",
    "\n",
    "valor = 1\n",
    "base = pd.read_csv('../Datasets/' + str(NomeBase)+'.csv')\n",
    "\n",
    "import math\n",
    "mediaRenda = base['renda'].mean()\n",
    "mediaRenda = math.floor(mediaRenda)\n",
    "base.update(base['renda'].fillna(mediaRenda))\n",
    "\n",
    "entradas = base.iloc[:, 0:len(base.columns) -valor].values \n",
    "classes = base.iloc[:,len(base.columns)-valor].values\n",
    "NumColunas = len(base.columns) - valor\n",
    "\n",
    "print(classes)\n",
    "caminho = '../resultados/Perceptron/Pesos_'+str(NomeBase)"
   ]
  },
  {
   "cell_type": "code",
   "execution_count": null,
   "metadata": {},
   "outputs": [],
   "source": [
    "taxaAprend = float(input(\"Digite a taxa de aprendizagem: \"))"
   ]
  },
  {
   "cell_type": "code",
   "execution_count": null,
   "metadata": {},
   "outputs": [],
   "source": [
    "base.head()"
   ]
  },
  {
   "cell_type": "markdown",
   "metadata": {},
   "source": [
    "### Padronização dos dados"
   ]
  },
  {
   "cell_type": "code",
   "execution_count": null,
   "metadata": {},
   "outputs": [],
   "source": [
    "for i in range (len(base.columns)-valor):\n",
    "    entradas[:,i] = (entradas[:,i] - np.mean(entradas[:,i]))/entradas[:,i].std(axis = 0)"
   ]
  },
  {
   "cell_type": "markdown",
   "metadata": {},
   "source": [
    "### Inicialização dos pesos"
   ]
  },
  {
   "cell_type": "code",
   "execution_count": null,
   "metadata": {},
   "outputs": [],
   "source": [
    "pesos = np.dot((-0.5 + (0.5 + 0.5)), np.random.random((NumColunas,1)))\n",
    "  "
   ]
  },
  {
   "cell_type": "markdown",
   "metadata": {},
   "source": [
    "### Divisão da base em treinamento (80%) e teste (20%)"
   ]
  },
  {
   "cell_type": "code",
   "execution_count": null,
   "metadata": {},
   "outputs": [],
   "source": [
    "def dividir_trei_test(entradas, classes, percentual):\n",
    "    result = []\n",
    "    while (len(result)) != len(entradas):\n",
    "        r = randint(0, len(entradas)-1)\n",
    "        if r not in result:\n",
    "            result.append(r)    \n",
    "\n",
    "    repeticoes = np.zeros(np.max(classes)+1)\n",
    "    \n",
    "    for i in range(len(entradas)):\n",
    "        repeticoes[classes[i]] = repeticoes[classes[i]] + 1\n",
    "    repeticoes = np.array(repeticoes)\n",
    "    minimo = int(np.min(repeticoes) * (1 - percentual))\n",
    "    \n",
    "    treino = int((minimo) * (np.max(classes)+1) )\n",
    "    teste = int(len(entradas) - treino)\n",
    "\n",
    "    entradas_trei = np.zeros((treino, NumColunas))\n",
    "    entradas_test = np.zeros((teste, NumColunas))\n",
    "    classes_trei = np.zeros((treino)) \n",
    "    classes_test = np.zeros((teste))\n",
    "\n",
    " \n",
    "    contTreino = 0\n",
    "    contTest = 0\n",
    "    vetorMinimo = np.zeros(np.max(classes)+1)\n",
    "\n",
    "    for i in range(len(classes)):    \n",
    "        if (vetorMinimo[classes[result[i]]] < minimo):            \n",
    "            entradas_trei[contTreino] = entradas[result[i]]\n",
    "            classes_trei[contTreino] = classes[result[i]]\n",
    "   \n",
    "            contTreino = contTreino + 1\n",
    "            vetorMinimo[classes[result[i]]] = vetorMinimo[classes[result[i]]] + 1\n",
    "            \n",
    "        else:   \n",
    "            entradas_test[contTest] = entradas[result[i]]            \n",
    "            classes_test[contTest] = classes[result[i]]\n",
    "           \n",
    "            contTest = contTest + 1        \n",
    "\n",
    "\n",
    "    return entradas_trei, entradas_test, classes_trei, classes_test"
   ]
  },
  {
   "cell_type": "code",
   "execution_count": null,
   "metadata": {},
   "outputs": [],
   "source": [
    "labelEncoder = LabelEncoder()\n",
    "classes = labelEncoder.fit_transform(classes)\n",
    "NumClasses = np.max(classes) + 2\n",
    "\n",
    "entradas_trei, entradas_test, classes_t, classes_te = dividir_trei_test(entradas, classes, 0.05)\n",
    "contador = np.zeros((3))\n",
    "\n",
    "classes_test =  np.array(pd.get_dummies(classes_te))\n",
    "classes_trei =  np.array(pd.get_dummies(classes_t))"
   ]
  },
  {
   "cell_type": "markdown",
   "metadata": {},
   "source": [
    "Função soma"
   ]
  },
  {
   "cell_type": "code",
   "execution_count": null,
   "metadata": {},
   "outputs": [],
   "source": [
    "def soma (registro, pesos):\n",
    "    s = registro.dot(pesos)\n",
    "    return StepFunction(s)"
   ]
  },
  {
   "cell_type": "markdown",
   "metadata": {},
   "source": [
    "Função de Ativação"
   ]
  },
  {
   "cell_type": "markdown",
   "metadata": {},
   "source": [
    "Step Function"
   ]
  },
  {
   "cell_type": "code",
   "execution_count": null,
   "metadata": {},
   "outputs": [],
   "source": [
    "def StepFunction(soma):\n",
    "    if (soma >= 1):\n",
    "        return 1\n",
    "    else:\n",
    "        return 0"
   ]
  },
  {
   "cell_type": "code",
   "execution_count": null,
   "metadata": {
    "scrolled": true
   },
   "outputs": [],
   "source": [
    "saidaCalculada = np.zeros([len(entradas_trei)])\n",
    "erroTotal = 1\n",
    "cont = 0\n",
    "melhorI = 0\n",
    "erroN = 0\n",
    "NPesos = pesos\n",
    "while (cont < 200):\n",
    "    cont = cont + 1\n",
    "    erroTotal = 0\n",
    "    for i in range(len(classes_t)):\n",
    "        saidaCalculada[i] = soma(np.asarray(entradas_trei[i]), pesos)\n",
    "            #print(saidaCalculada)\n",
    "        erro = abs(classes_t[i] - saidaCalculada[i])\n",
    "        erroTotal += erro\n",
    "        for j in range(len(pesos)):\n",
    "            pesos[j] = pesos[j] + (taxaAprend * entradas_trei[i][j] * erro)\n",
    "                #print(\"Peso atualizado \" + str(pesos[j]))\n",
    "    \n",
    "    if (erroN < 100-(erroTotal * 100)/len(classes_t)):\n",
    "        erroN = 100-(erroTotal * 100)/len(classes_t)\n",
    "        melhorI = cont\n",
    "        Npesos = pesos\n",
    "        \n",
    "    print(\"Iteração: \"+ str(cont))\n",
    "    print(\"Acurácia: \" + str(100-(erroTotal * 100)/len(classes_t)))\n",
    "    print(\"Melhor iteração: \"+ str(melhorI))\n",
    "    print(\"Acurácia: \"+ str(erroN))\n",
    "print(\"Total: \" + str(len(classes_t)))\n",
    "print(\"Quantidade de erros: \"+str(erroTotal))\n",
    "#    return saidaCalculada, pesos\n",
    "\n",
    "iteracoes = cont"
   ]
  },
  {
   "cell_type": "code",
   "execution_count": null,
   "metadata": {},
   "outputs": [],
   "source": [
    "entradas = entradas_trei.T"
   ]
  },
  {
   "cell_type": "code",
   "execution_count": null,
   "metadata": {},
   "outputs": [],
   "source": [
    "carregar = 2\n",
    "import os\n",
    "if not os.path.exists(str(caminho)+\"/\"):\n",
    "    os.mkdir(str(caminho))  \n",
    "\n",
    "    valor  = 0\n",
    "    import os\n",
    "\n",
    "    if not os.path.exists(str(caminho)+\"/\"+str(int(valor))):\n",
    "        os.mkdir(str(caminho)+ \"/\" + str(int(valor)))    \n",
    "\n",
    "    else:       \n",
    "        b = os.listdir(caminho)\n",
    "        a = np.zeros(len(b))\n",
    "\n",
    "        for i in range(len(b)):\n",
    "            a[i] = int(b[i])\n",
    "\n",
    "        valor = np.max(a)\n",
    "        valor = valor + 1\n",
    "\n",
    "        os.mkdir(str(caminho) + \"/\"+ str(int(valor)))\n",
    "    \n",
    "    np.save(str(caminho) + \"/\"+ str(int(valor))+\"/pesos\", pesos)\n",
    "    np.save(str(caminho) + \"/\"+ str(int(valor))+\"/TaxaAprend\", taxaAprend)\n",
    "    np.save(str(caminho) + \"/\"+ str(int(valor))+\"/iteracoes\", cont)\n",
    "    np.save(str(caminho) + \"/\"+ str(int(valor))+\"/erroTotalTreino\", erroTotal)\n",
    "\n",
    "    np.save(str(caminho) + \"/\"+ str(int(valor))+\"/AcertoTreino\", 100-(erroTotal * 100)/len(classes_t))\n"
   ]
  },
  {
   "cell_type": "code",
   "execution_count": null,
   "metadata": {},
   "outputs": [],
   "source": [
    "print(NumColunas)\n",
    "plt.rcParams['figure.figsize'] = (20,25)\n",
    "for i in range(NumColunas-1):\n",
    "    plt.subplot(6, 5, i+1)\n",
    "    a1 = i\n",
    "    a2 = i + 1\n",
    "    x = entradas[a1]\n",
    "    y = entradas[a2]\n",
    "    y1 = [pesos[a1], pesos[a2]]\n",
    "    plt.plot(y1)\n",
    "    color= ['lime' if l == 0 else 'teal' if l == 1 else 'green' for l in classes_t]\n",
    "    plt.rcParams['figure.figsize'] = (7,5)\n",
    "    plt.title(\"Atributos \"+ str(a1) + \" e \" + str(a2) )\n",
    "    plt.scatter(x, y, color=color)\n",
    "\n",
    "\n",
    "plt.show()"
   ]
  },
  {
   "cell_type": "markdown",
   "metadata": {},
   "source": [
    "### Organização das Saídas para plotagem da Matriz de Confusão"
   ]
  },
  {
   "cell_type": "code",
   "execution_count": null,
   "metadata": {
    "scrolled": true
   },
   "outputs": [],
   "source": [
    "from sklearn.metrics import confusion_matrix\n",
    "import matplotlib.pyplot as plt\n",
    "import itertools\n",
    "\n",
    "def plot_confusion_matrix(cm, classes,\n",
    "                          normalize=False,\n",
    "                          title='Matriz de Confusão',\n",
    "                          cmap=plt.cm.Blues):   \n",
    "\n",
    "    plt.imshow(cm, interpolation='nearest', cmap=cmap)\n",
    "    plt.title(title)\n",
    "    plt.colorbar()\n",
    "    tick_marks = np.arange(len(classes))\n",
    "    plt.xticks(tick_marks, classes, rotation=45)\n",
    "    plt.yticks(tick_marks, classes)\n",
    "\n",
    "    fmt = '.2f' if normalize else 'd'\n",
    "    thresh = cm.max() / 2.\n",
    "    for i, j in itertools.product(range(cm.shape[0]), range(cm.shape[1])):\n",
    "        plt.text(j, i, format(cm[i, j], fmt),\n",
    "                 horizontalalignment=\"center\",\n",
    "                 color=\"white\" if cm[i, j] > thresh else \"black\")\n",
    "\n",
    "    plt.tight_layout()\n",
    "    plt.ylabel('Saída correta')\n",
    "    plt.xlabel('Saída encontrada')    "
   ]
  },
  {
   "cell_type": "code",
   "execution_count": null,
   "metadata": {},
   "outputs": [],
   "source": [
    "errosTrei = []\n",
    "rejeiTrei = []\n",
    "cont = 0\n",
    "for i in range (len(classes_t)):\n",
    "    if (classes_t[i] != saidaCalculada[i] and saidaCalculada[i] != 2):\n",
    "        cont += 1\n",
    "\n",
    "print (\"Total de erros \"+str(cont))\n",
    "    "
   ]
  },
  {
   "cell_type": "code",
   "execution_count": null,
   "metadata": {},
   "outputs": [],
   "source": [
    "plt.rcParams['figure.figsize'] = (7,5)\n",
    "sns.set_style(\"dark\")\n",
    "cm = confusion_matrix(classes_t, saidaCalculada)\n",
    "\n",
    "\n",
    "plot_confusion_matrix(cm, \n",
    "                      classes=['Boas', 'Falhas'],\n",
    "                      title='Treinamento')\n",
    "plt.show()"
   ]
  },
  {
   "cell_type": "markdown",
   "metadata": {},
   "source": [
    "## Testes"
   ]
  },
  {
   "cell_type": "code",
   "execution_count": null,
   "metadata": {},
   "outputs": [],
   "source": [
    "saidaCalculada = np.zeros([len(entradas_test)])\n",
    "\n",
    "erroTotalT = 0\n",
    "for i in range(len(classes_te)):\n",
    "    saidaCalculada[i] = soma(np.asarray(entradas_test[i]), NPesos)\n",
    "    erro = abs(classes_te[i] - saidaCalculada[i])\n",
    "    erroTotalT += erro\n",
    "\n",
    "print(\"Acerto: \" + str(100-(erroTotalT * 100)/len(classes_te)))  \n",
    "print(\"Total: \" + str(len(classes_te)))\n",
    "print(\"Quantidade de erros: \"+str(erroTotalT))"
   ]
  },
  {
   "cell_type": "code",
   "execution_count": null,
   "metadata": {},
   "outputs": [],
   "source": [
    "errosTest = []\n",
    "rejeiTest = []\n",
    "cont = 0\n",
    "for i in range (len(classes_te)):\n",
    "    if (classes_te[i] != saidaCalculada[i] and saidaCalculada[i] != 2):\n",
    "        cont += 1\n",
    "\n",
    "print (\"Total de erros \"+str(cont))\n",
    "    "
   ]
  },
  {
   "cell_type": "code",
   "execution_count": null,
   "metadata": {},
   "outputs": [],
   "source": [
    "cm = confusion_matrix(classes_te, saidaCalculada)\n",
    "\n",
    "plot_confusion_matrix(cm, \n",
    "                      classes=['boa', 'falha'],\n",
    "                      title='Teste')\n",
    "plt.show()"
   ]
  },
  {
   "cell_type": "code",
   "execution_count": null,
   "metadata": {},
   "outputs": [],
   "source": [
    "entradas = entradas_test.T"
   ]
  },
  {
   "cell_type": "code",
   "execution_count": null,
   "metadata": {},
   "outputs": [],
   "source": [
    "a1 = 1\n",
    "a2 = 2\n",
    "x = entradas[a1]\n",
    "y = entradas[a2]\n",
    "\n",
    "y1 = [pesos[a1], pesos[a2]]\n",
    "print(y1)\n",
    "\n",
    "plt.plot(y1)\n",
    "\n",
    "color= ['lime' if l == 0 else 'teal' if l == 1 else 'green' for l in classes_te]\n",
    "plt.rcParams['figure.figsize'] = (7,5)\n",
    "plt.title(\"Atributos \"+ str(a1) + \" e \" + str(a2) )\n",
    "plt.scatter(x, y, color=color)\n",
    "plt.show()\n",
    "\n",
    "\n",
    "print(x)\n",
    "print(y)"
   ]
  },
  {
   "cell_type": "code",
   "execution_count": null,
   "metadata": {},
   "outputs": [],
   "source": [
    "if (carregar != 1):\n",
    "    caminhoTexto = '../resultados/Perceptron/'+str(NomeBase)+'Dados.txt'\n",
    "    \n",
    "    if not os.path.exists(caminhoTexto):\n",
    "        arquivo = open(caminhoTexto, 'w')\n",
    "        arquivo.writelines(\"iteracoes, taxaAprend, melhorIteracao, totalTreino, erroTreino, TotalTeste, erroTeste, acertoTreino, acertoTeste\")\n",
    "\n",
    "        arquivo.close()\n",
    "        \n",
    "      \n",
    "    arquivo = open(caminhoTexto, 'r')\n",
    "        \n",
    "    conteudo = arquivo.readlines()\n",
    "        \n",
    "    conteudo.append(\"\\n\"+str(iteracoes)+ \", \"+str(taxaAprend)+ \", \"+str(melhorI)+\", \"+str(len(classes_t)) + \", \" +str(erroTotal)+ \", \"+str(len(classes_te))+\", \"+str(erroTotalT)+ \", \"+str(erroN)+\", \"+str(100-(erroTotalT * 100)/len(classes_te)))\n",
    "\n",
    "\n",
    "    #### Abre o arquivo como escrita, escreve o conteúdo e fecha o mesmo\n",
    "        \n",
    "    arquivo = open('../resultados/Perceptron/'+str(NomeBase)+'Dados.txt', 'w')\n",
    "    arquivo.writelines(conteudo)\n",
    "    arquivo.close()"
   ]
  },
  {
   "cell_type": "code",
   "execution_count": null,
   "metadata": {},
   "outputs": [],
   "source": [
    "NomeBase = \"baseEngenhariaNumerica4\"\n",
    "#NomeBase = \"balanceado\"\n",
    "\n",
    "\n",
    "print('../resultados/'+str(NomeBase)+'Dados.txt')\n",
    "\n",
    "\n",
    "\n",
    "arquivo = pd.read_csv('../resultados/Perceptron/'+str(NomeBase)+'Dados.txt')\n",
    "arquivo = arquivo.sort_values(by=[' acertoTeste', ' acertoTreino'], ascending=False)\n",
    "print(\"10 Melhores Resultados - Base \"+ str(NomeBase))\n",
    "arquivo.head(20)"
   ]
  }
 ],
 "metadata": {
  "kernelspec": {
   "display_name": "Python 3",
   "language": "python",
   "name": "python3"
  },
  "language_info": {
   "codemirror_mode": {
    "name": "ipython",
    "version": 3
   },
   "file_extension": ".py",
   "mimetype": "text/x-python",
   "name": "python",
   "nbconvert_exporter": "python",
   "pygments_lexer": "ipython3",
   "version": "3.6.8"
  }
 },
 "nbformat": 4,
 "nbformat_minor": 2
}
